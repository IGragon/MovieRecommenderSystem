{
  "nbformat": 4,
  "nbformat_minor": 0,
  "metadata": {
    "colab": {
      "provenance": []
    },
    "kernelspec": {
      "name": "python3",
      "display_name": "Python 3"
    },
    "language_info": {
      "name": "python"
    }
  },
  "cells": [
    {
      "cell_type": "markdown",
      "source": [
        "# Load data and import modules"
      ],
      "metadata": {
        "id": "lcbNY_WnkqH5"
      }
    },
    {
      "cell_type": "code",
      "execution_count": 2,
      "metadata": {
        "colab": {
          "base_uri": "https://localhost:8080/"
        },
        "id": "hpenleyKkPvl",
        "outputId": "d9348524-3a10-4a3d-8fd6-68ad7b0fed89"
      },
      "outputs": [
        {
          "output_type": "stream",
          "name": "stdout",
          "text": [
            "--2023-12-03 10:23:30--  https://files.grouplens.org/datasets/movielens/ml-100k.zip\n",
            "Resolving files.grouplens.org (files.grouplens.org)... 128.101.65.152\n",
            "Connecting to files.grouplens.org (files.grouplens.org)|128.101.65.152|:443... connected.\n",
            "HTTP request sent, awaiting response... 200 OK\n",
            "Length: 4924029 (4.7M) [application/zip]\n",
            "Saving to: ‘ml-100k.zip’\n",
            "\n",
            "ml-100k.zip         100%[===================>]   4.70M  15.3MB/s    in 0.3s    \n",
            "\n",
            "2023-12-03 10:23:30 (15.3 MB/s) - ‘ml-100k.zip’ saved [4924029/4924029]\n",
            "\n",
            "Archive:  ml-100k.zip\n",
            "   creating: ml-100k/\n",
            "  inflating: ml-100k/allbut.pl       \n",
            "  inflating: ml-100k/mku.sh          \n",
            "  inflating: ml-100k/README          \n",
            "  inflating: ml-100k/u.data          \n",
            "  inflating: ml-100k/u.genre         \n",
            "  inflating: ml-100k/u.info          \n",
            "  inflating: ml-100k/u.item          \n",
            "  inflating: ml-100k/u.occupation    \n",
            "  inflating: ml-100k/u.user          \n",
            "  inflating: ml-100k/u1.base         \n",
            "  inflating: ml-100k/u1.test         \n",
            "  inflating: ml-100k/u2.base         \n",
            "  inflating: ml-100k/u2.test         \n",
            "  inflating: ml-100k/u3.base         \n",
            "  inflating: ml-100k/u3.test         \n",
            "  inflating: ml-100k/u4.base         \n",
            "  inflating: ml-100k/u4.test         \n",
            "  inflating: ml-100k/u5.base         \n",
            "  inflating: ml-100k/u5.test         \n",
            "  inflating: ml-100k/ua.base         \n",
            "  inflating: ml-100k/ua.test         \n",
            "  inflating: ml-100k/ub.base         \n",
            "  inflating: ml-100k/ub.test         \n"
          ]
        }
      ],
      "source": [
        "!wget https://files.grouplens.org/datasets/movielens/ml-100k.zip\n",
        "!unzip ml-100k.zip"
      ]
    },
    {
      "cell_type": "code",
      "source": [
        "import numpy as np\n",
        "import pandas as pd\n",
        "import matplotlib.pyplot as plt\n",
        "\n",
        "from sklearn.utils import check_random_state\n",
        "import random\n",
        "import os\n",
        "\n",
        "def seed_everything(seed=42):\n",
        "    random.seed(seed)\n",
        "    np.random.seed(seed)\n",
        "    check_random_state(seed)\n",
        "    os.environ['PYTHONHASHSEED'] = str(seed)\n",
        "\n",
        "# attempt to make it deterministic\n",
        "seed_everything()"
      ],
      "metadata": {
        "id": "xGFtS5hzkamZ"
      },
      "execution_count": 3,
      "outputs": []
    },
    {
      "cell_type": "markdown",
      "source": [
        "## Load data files"
      ],
      "metadata": {
        "id": "CXqWsZSjk0wt"
      }
    },
    {
      "cell_type": "code",
      "source": [
        "from pathlib import Path\n",
        "\n",
        "# define path and columns\n",
        "data_folder = Path(\"./ml-100k\")\n",
        "data_col_names = [\"user_id\", \"movie_id\", \"rating\", \"timestamp\"]\n",
        "user_data_col_names = [\"user_id\", \"age\", \"gender\", \"occupation\", \"zip_code\"]\n",
        "movie_data_col_names = [\"movie_id\", \"title\", \"release_date\", \"video_release_data\", \"url\"] + [f\"genre_{i}\" for i in range(19)]"
      ],
      "metadata": {
        "id": "mcCPSCxjkcUb"
      },
      "execution_count": 4,
      "outputs": []
    },
    {
      "cell_type": "code",
      "source": [
        "from sklearn.model_selection import train_test_split\n",
        "\n",
        "data = pd.read_csv(str(data_folder / \"u.data\"), sep=\"\\t\", names=data_col_names, encoding='latin-1')\n",
        "user_data = pd.read_csv(str(data_folder / \"u.user\"), sep=\"|\", names=user_data_col_names, encoding='latin-1')\n",
        "movie_data = pd.read_csv(str(data_folder / \"u.item\"), sep=\"|\", names=movie_data_col_names, encoding='latin-1')"
      ],
      "metadata": {
        "id": "eKa76rJCk68Y"
      },
      "execution_count": 7,
      "outputs": []
    },
    {
      "cell_type": "markdown",
      "source": [
        "# Recommender System Construction"
      ],
      "metadata": {
        "id": "Vp11-dOHrZNB"
      }
    },
    {
      "cell_type": "markdown",
      "source": [
        "## Recommender design"
      ],
      "metadata": {
        "id": "9y9pk43SBaYf"
      }
    },
    {
      "cell_type": "code",
      "source": [
        "from tqdm import tqdm\n",
        "from sklearn.decomposition import PCA\n",
        "from sklearn.pipeline import Pipeline\n",
        "from sklearn.preprocessing import StandardScaler, MinMaxScaler\n",
        "\n",
        "\n",
        "class CollaborativeFilteringRecSys:\n",
        "    def __init__(self, pca_var=0.99, knn_neighbors=450):\n",
        "        self.pca_var = pca_var\n",
        "        self.knn_neighbors = knn_neighbors\n",
        "        self.distances = None\n",
        "        self.neighbors = None\n",
        "        self.rating_matrix = None\n",
        "\n",
        "    def fit(self, train_df: pd.DataFrame, movie_data: pd.DataFrame = None):\n",
        "        self.rating_matrix = train_df.pivot(index=\"movie_id\", columns=\"user_id\", values=\"rating\").fillna(0)\n",
        "        if movie_data is None:\n",
        "            total_item_matrix = self.rating_matrix\n",
        "        else:\n",
        "            total_item_matrix = self.rating_matrix.merge(movie_data, on=\"movie_id\")\n",
        "            total_item_matrix = total_item_matrix.drop(columns=[\"movie_id\", \"title\", \"release_date\", \"video_release_data\", \"url\"])\n",
        "\n",
        "        pipeline = Pipeline([(\"scale\", MinMaxScaler((-1, 1))), (\"pca\", PCA(n_components=self.pca_var))])\n",
        "        X_train = pipeline.fit_transform(total_item_matrix.values)\n",
        "        knn = NearestNeighbors(metric=\"cosine\")\n",
        "        knn.fit(X_train)\n",
        "        self.distances, self.neighbors = knn.kneighbors(X_train, n_neighbors=self.knn_neighbors)\n",
        "\n",
        "    def calculate_rating(self, neighbors_dists, user_rating_history):\n",
        "        # calculate projected rating\n",
        "        sum_sim = 0\n",
        "        weighted_sum_ratings = 0\n",
        "        for movie_dist, movie_index in neighbors_dists:\n",
        "            cur_movie_id = movie_index + 1\n",
        "            sim = 1 - movie_dist\n",
        "            sum_sim += sim\n",
        "            weighted_sum_ratings += user_rating_history[cur_movie_id] * sim\n",
        "\n",
        "        if weighted_sum_ratings == 0:\n",
        "            return 0\n",
        "        return weighted_sum_ratings / sum_sim\n",
        "\n",
        "\n",
        "    def predict_movie_rating(self, user_id, movie_id, rated_neighbors):\n",
        "        movie_index = self.rating_matrix.index.tolist().index(movie_id)\n",
        "        movie_dists = self.distances[movie_index].tolist()\n",
        "        movie_neighbors = self.neighbors[movie_index].tolist()\n",
        "\n",
        "        if movie_index in movie_neighbors:\n",
        "            cur_ind = movie_neighbors.index(movie_index)\n",
        "            movie_dists.pop(cur_ind)\n",
        "            movie_neighbors.pop(cur_ind)\n",
        "\n",
        "        user_rating_history = self.rating_matrix[user_id]\n",
        "        seen_movies = set(user_rating_history[user_rating_history != 0].index)\n",
        "        neighbors_dists = list(filter(lambda x: (x[1] + 1) in seen_movies,\n",
        "                                    zip(movie_dists, movie_neighbors)))[:rated_neighbors]\n",
        "\n",
        "        return self.calculate_rating(neighbors_dists, user_rating_history)\n",
        "\n",
        "\n",
        "    def predict_unseen(self, user_id, verbose=True, rated_neighbors=5):\n",
        "        user_rating_history = self.rating_matrix[user_id]\n",
        "        unseen_movies = user_rating_history[user_rating_history == 0].index\n",
        "\n",
        "        ratings = []\n",
        "        if verbose:\n",
        "            pbar = tqdm(unseen_movies, desc=\"Predicting ratings\")\n",
        "        else:\n",
        "            pbar = unseen_movies\n",
        "        for movie_id in pbar:\n",
        "            rating = self.predict_movie_rating(user_id, movie_id, rated_neighbors)\n",
        "            ratings.append(rating)\n",
        "\n",
        "        return pd.DataFrame({\"movie_id\": unseen_movies, \"pred_rating\": ratings})\n",
        "\n",
        "\n",
        "    def recommend_unseen(self, user_id, distances, neighbors, rating_matrix, top_k=20):\n",
        "        rating_predictions = self.predict_unseen(user_id)\n",
        "        rating_predictions = rating_predictions.sort_values(\"pred_rating\", ascending=False).head(top_k)\n",
        "        return rating_predictions"
      ],
      "metadata": {
        "id": "GO6qQTcYNBWu"
      },
      "execution_count": 35,
      "outputs": []
    },
    {
      "cell_type": "markdown",
      "source": [
        "## Tune parameters on validation"
      ],
      "metadata": {
        "id": "7GH4Q8pzriJZ"
      }
    },
    {
      "cell_type": "code",
      "source": [
        "train_df = pd.read_csv(str(data_folder / \"ua.base\"), sep=\"\\t\", names=data_col_names, encoding='latin-1')\n",
        "val_df = pd.read_csv(str(data_folder / \"ua.test\"), sep=\"\\t\", names=data_col_names, encoding='latin-1')\n",
        "movie_data = pd.read_csv(str(data_folder / \"u.item\"), sep=\"|\", names=movie_data_col_names, encoding='latin-1')"
      ],
      "metadata": {
        "id": "L0S21SuQOUNH"
      },
      "execution_count": 36,
      "outputs": []
    },
    {
      "cell_type": "markdown",
      "source": [
        "#### Metrics definition"
      ],
      "metadata": {
        "id": "XojEaG_9u1fT"
      }
    },
    {
      "cell_type": "code",
      "source": [
        "from sklearn.metrics import mean_squared_error, mean_absolute_error\n",
        "\n",
        "def rmse(true_data, predictions):\n",
        "    combined = true_data.merge(predictions)\n",
        "    true_ratings = combined[\"rating\"].values\n",
        "    pred_ratings = combined[\"pred_rating\"].values\n",
        "    return np.sqrt(mean_squared_error(true_ratings, pred_ratings))\n",
        "\n",
        "\n",
        "def mae(true_data, predictions):\n",
        "    combined = true_data.merge(predictions)\n",
        "    true_ratings = combined[\"rating\"].values\n",
        "    pred_ratings = combined[\"pred_rating\"].values\n",
        "    return mean_absolute_error(true_ratings, pred_ratings)\n",
        "\n",
        "\n",
        "def presicion_recall(true_data, predictions, k=10, good_threshold=3.5):\n",
        "    relevant_items = set(true_data[\"movie_id\"][true_data[\"rating\"] >= good_threshold].values)\n",
        "    if len(relevant_items) == 0:\n",
        "        return None, None\n",
        "    recommended = predictions[predictions[\"pred_rating\"] >= good_threshold].sort_values(\"pred_rating\", ascending=False)[\"movie_id\"].values[:k]\n",
        "    hits = sum(rec in relevant_items for rec in recommended)\n",
        "    return hits / len(recommended), hits / len(relevant_items)"
      ],
      "metadata": {
        "id": "Qp51UXyWBTfs"
      },
      "execution_count": 37,
      "outputs": []
    },
    {
      "cell_type": "markdown",
      "source": [
        "### Grid search params"
      ],
      "metadata": {
        "id": "2zLEhBa-OEvE"
      }
    },
    {
      "cell_type": "code",
      "source": [
        "from sklearn.neighbors import NearestNeighbors\n",
        "neighbors = [100, 400, 600]\n",
        "pca_vars = [0.9, 0.95]\n",
        "use_movie_data = [True, False]\n",
        "\n",
        "results = [] # ((score1, score2), (n, k))\n",
        "for n_neighbors in neighbors:\n",
        "    for pca_var in pca_vars:\n",
        "        for use_movies in use_movie_data:\n",
        "            rec_sys = CollaborativeFilteringRecSys(pca_var=pca_var, knn_neighbors=n_neighbors)\n",
        "            if use_movies:\n",
        "                rec_sys.fit(train_df, movie_data)\n",
        "            else:\n",
        "                rec_sys.fit(train_df)\n",
        "\n",
        "            evaluation_user_list = val_df[\"user_id\"].unique()[::10]\n",
        "\n",
        "            rmses = []\n",
        "            recalls = []\n",
        "            for user_id in tqdm(evaluation_user_list, desc=f\"Validating with {n_neighbors=}, {pca_var=}\"):\n",
        "                preds = rec_sys.predict_unseen(user_id, verbose=False)\n",
        "                true_data = val_df[[\"movie_id\", \"rating\"]][val_df[\"user_id\"] == user_id]\n",
        "                rmses.append(rmse(true_data, preds))\n",
        "                _, r = presicion_recall(true_data, preds, k=20)\n",
        "                if r is not None:\n",
        "                    recalls.append(r)\n",
        "            valid_rmse = np.mean(rmses)\n",
        "            valid_recall = np.mean(recalls)\n",
        "            results.append((valid_rmse, valid_recall, use_movies, n_neighbors, pca_var))"
      ],
      "metadata": {
        "colab": {
          "base_uri": "https://localhost:8080/"
        },
        "id": "OtYDBUm2rDrJ",
        "outputId": "6062c9e3-50a3-41d6-f03d-d90e2975cd99"
      },
      "execution_count": 38,
      "outputs": [
        {
          "output_type": "stream",
          "name": "stderr",
          "text": [
            "Validating with n_neighbors=100, pca_var=0.9: 100%|██████████| 95/95 [00:57<00:00,  1.67it/s]\n",
            "Validating with n_neighbors=100, pca_var=0.9: 100%|██████████| 95/95 [00:55<00:00,  1.70it/s]\n",
            "Validating with n_neighbors=100, pca_var=0.95: 100%|██████████| 95/95 [00:56<00:00,  1.67it/s]\n",
            "Validating with n_neighbors=100, pca_var=0.95: 100%|██████████| 95/95 [00:56<00:00,  1.69it/s]\n",
            "Validating with n_neighbors=400, pca_var=0.9: 100%|██████████| 95/95 [01:10<00:00,  1.35it/s]\n",
            "Validating with n_neighbors=400, pca_var=0.9: 100%|██████████| 95/95 [01:08<00:00,  1.38it/s]\n",
            "Validating with n_neighbors=400, pca_var=0.95: 100%|██████████| 95/95 [01:06<00:00,  1.44it/s]\n",
            "Validating with n_neighbors=400, pca_var=0.95: 100%|██████████| 95/95 [01:07<00:00,  1.40it/s]\n",
            "Validating with n_neighbors=600, pca_var=0.9: 100%|██████████| 95/95 [01:15<00:00,  1.26it/s]\n",
            "Validating with n_neighbors=600, pca_var=0.9: 100%|██████████| 95/95 [01:16<00:00,  1.25it/s]\n",
            "Validating with n_neighbors=600, pca_var=0.95: 100%|██████████| 95/95 [01:14<00:00,  1.28it/s]\n",
            "Validating with n_neighbors=600, pca_var=0.95: 100%|██████████| 95/95 [01:14<00:00,  1.27it/s]\n"
          ]
        }
      ]
    },
    {
      "cell_type": "code",
      "source": [
        "results_df = pd.DataFrame(results, columns=[\"rmse\", \"recall@20\", \"use_movie_data\", \"n_neighbors\", \"pca_var\"])\n",
        "results_df.sort_values(\"rmse\")"
      ],
      "metadata": {
        "colab": {
          "base_uri": "https://localhost:8080/",
          "height": 426
        },
        "id": "VX08SgEvF2r9",
        "outputId": "7c4196f4-e637-41d9-f849-fc1699592e59"
      },
      "execution_count": 40,
      "outputs": [
        {
          "output_type": "execute_result",
          "data": {
            "text/plain": [
              "        rmse  recall@20  use_movie_data  n_neighbors  pca_var\n",
              "8   1.033452   0.061533            True          600     0.90\n",
              "10  1.038654   0.059298            True          600     0.95\n",
              "11  1.049378   0.056738           False          600     0.95\n",
              "9   1.049981   0.052790           False          600     0.90\n",
              "4   1.068917   0.049662            True          400     0.90\n",
              "6   1.075068   0.049678            True          400     0.95\n",
              "5   1.117157   0.051621           False          400     0.90\n",
              "7   1.118058   0.051475           False          400     0.95\n",
              "0   1.178205   0.049883            True          100     0.90\n",
              "2   1.192018   0.044140            True          100     0.95\n",
              "1   1.213198   0.048876           False          100     0.90\n",
              "3   1.222830   0.045497           False          100     0.95"
            ],
            "text/html": [
              "\n",
              "  <div id=\"df-d434b04b-c644-479e-9d07-44b8905c226c\" class=\"colab-df-container\">\n",
              "    <div>\n",
              "<style scoped>\n",
              "    .dataframe tbody tr th:only-of-type {\n",
              "        vertical-align: middle;\n",
              "    }\n",
              "\n",
              "    .dataframe tbody tr th {\n",
              "        vertical-align: top;\n",
              "    }\n",
              "\n",
              "    .dataframe thead th {\n",
              "        text-align: right;\n",
              "    }\n",
              "</style>\n",
              "<table border=\"1\" class=\"dataframe\">\n",
              "  <thead>\n",
              "    <tr style=\"text-align: right;\">\n",
              "      <th></th>\n",
              "      <th>rmse</th>\n",
              "      <th>recall@20</th>\n",
              "      <th>use_movie_data</th>\n",
              "      <th>n_neighbors</th>\n",
              "      <th>pca_var</th>\n",
              "    </tr>\n",
              "  </thead>\n",
              "  <tbody>\n",
              "    <tr>\n",
              "      <th>8</th>\n",
              "      <td>1.033452</td>\n",
              "      <td>0.061533</td>\n",
              "      <td>True</td>\n",
              "      <td>600</td>\n",
              "      <td>0.90</td>\n",
              "    </tr>\n",
              "    <tr>\n",
              "      <th>10</th>\n",
              "      <td>1.038654</td>\n",
              "      <td>0.059298</td>\n",
              "      <td>True</td>\n",
              "      <td>600</td>\n",
              "      <td>0.95</td>\n",
              "    </tr>\n",
              "    <tr>\n",
              "      <th>11</th>\n",
              "      <td>1.049378</td>\n",
              "      <td>0.056738</td>\n",
              "      <td>False</td>\n",
              "      <td>600</td>\n",
              "      <td>0.95</td>\n",
              "    </tr>\n",
              "    <tr>\n",
              "      <th>9</th>\n",
              "      <td>1.049981</td>\n",
              "      <td>0.052790</td>\n",
              "      <td>False</td>\n",
              "      <td>600</td>\n",
              "      <td>0.90</td>\n",
              "    </tr>\n",
              "    <tr>\n",
              "      <th>4</th>\n",
              "      <td>1.068917</td>\n",
              "      <td>0.049662</td>\n",
              "      <td>True</td>\n",
              "      <td>400</td>\n",
              "      <td>0.90</td>\n",
              "    </tr>\n",
              "    <tr>\n",
              "      <th>6</th>\n",
              "      <td>1.075068</td>\n",
              "      <td>0.049678</td>\n",
              "      <td>True</td>\n",
              "      <td>400</td>\n",
              "      <td>0.95</td>\n",
              "    </tr>\n",
              "    <tr>\n",
              "      <th>5</th>\n",
              "      <td>1.117157</td>\n",
              "      <td>0.051621</td>\n",
              "      <td>False</td>\n",
              "      <td>400</td>\n",
              "      <td>0.90</td>\n",
              "    </tr>\n",
              "    <tr>\n",
              "      <th>7</th>\n",
              "      <td>1.118058</td>\n",
              "      <td>0.051475</td>\n",
              "      <td>False</td>\n",
              "      <td>400</td>\n",
              "      <td>0.95</td>\n",
              "    </tr>\n",
              "    <tr>\n",
              "      <th>0</th>\n",
              "      <td>1.178205</td>\n",
              "      <td>0.049883</td>\n",
              "      <td>True</td>\n",
              "      <td>100</td>\n",
              "      <td>0.90</td>\n",
              "    </tr>\n",
              "    <tr>\n",
              "      <th>2</th>\n",
              "      <td>1.192018</td>\n",
              "      <td>0.044140</td>\n",
              "      <td>True</td>\n",
              "      <td>100</td>\n",
              "      <td>0.95</td>\n",
              "    </tr>\n",
              "    <tr>\n",
              "      <th>1</th>\n",
              "      <td>1.213198</td>\n",
              "      <td>0.048876</td>\n",
              "      <td>False</td>\n",
              "      <td>100</td>\n",
              "      <td>0.90</td>\n",
              "    </tr>\n",
              "    <tr>\n",
              "      <th>3</th>\n",
              "      <td>1.222830</td>\n",
              "      <td>0.045497</td>\n",
              "      <td>False</td>\n",
              "      <td>100</td>\n",
              "      <td>0.95</td>\n",
              "    </tr>\n",
              "  </tbody>\n",
              "</table>\n",
              "</div>\n",
              "    <div class=\"colab-df-buttons\">\n",
              "\n",
              "  <div class=\"colab-df-container\">\n",
              "    <button class=\"colab-df-convert\" onclick=\"convertToInteractive('df-d434b04b-c644-479e-9d07-44b8905c226c')\"\n",
              "            title=\"Convert this dataframe to an interactive table.\"\n",
              "            style=\"display:none;\">\n",
              "\n",
              "  <svg xmlns=\"http://www.w3.org/2000/svg\" height=\"24px\" viewBox=\"0 -960 960 960\">\n",
              "    <path d=\"M120-120v-720h720v720H120Zm60-500h600v-160H180v160Zm220 220h160v-160H400v160Zm0 220h160v-160H400v160ZM180-400h160v-160H180v160Zm440 0h160v-160H620v160ZM180-180h160v-160H180v160Zm440 0h160v-160H620v160Z\"/>\n",
              "  </svg>\n",
              "    </button>\n",
              "\n",
              "  <style>\n",
              "    .colab-df-container {\n",
              "      display:flex;\n",
              "      gap: 12px;\n",
              "    }\n",
              "\n",
              "    .colab-df-convert {\n",
              "      background-color: #E8F0FE;\n",
              "      border: none;\n",
              "      border-radius: 50%;\n",
              "      cursor: pointer;\n",
              "      display: none;\n",
              "      fill: #1967D2;\n",
              "      height: 32px;\n",
              "      padding: 0 0 0 0;\n",
              "      width: 32px;\n",
              "    }\n",
              "\n",
              "    .colab-df-convert:hover {\n",
              "      background-color: #E2EBFA;\n",
              "      box-shadow: 0px 1px 2px rgba(60, 64, 67, 0.3), 0px 1px 3px 1px rgba(60, 64, 67, 0.15);\n",
              "      fill: #174EA6;\n",
              "    }\n",
              "\n",
              "    .colab-df-buttons div {\n",
              "      margin-bottom: 4px;\n",
              "    }\n",
              "\n",
              "    [theme=dark] .colab-df-convert {\n",
              "      background-color: #3B4455;\n",
              "      fill: #D2E3FC;\n",
              "    }\n",
              "\n",
              "    [theme=dark] .colab-df-convert:hover {\n",
              "      background-color: #434B5C;\n",
              "      box-shadow: 0px 1px 3px 1px rgba(0, 0, 0, 0.15);\n",
              "      filter: drop-shadow(0px 1px 2px rgba(0, 0, 0, 0.3));\n",
              "      fill: #FFFFFF;\n",
              "    }\n",
              "  </style>\n",
              "\n",
              "    <script>\n",
              "      const buttonEl =\n",
              "        document.querySelector('#df-d434b04b-c644-479e-9d07-44b8905c226c button.colab-df-convert');\n",
              "      buttonEl.style.display =\n",
              "        google.colab.kernel.accessAllowed ? 'block' : 'none';\n",
              "\n",
              "      async function convertToInteractive(key) {\n",
              "        const element = document.querySelector('#df-d434b04b-c644-479e-9d07-44b8905c226c');\n",
              "        const dataTable =\n",
              "          await google.colab.kernel.invokeFunction('convertToInteractive',\n",
              "                                                    [key], {});\n",
              "        if (!dataTable) return;\n",
              "\n",
              "        const docLinkHtml = 'Like what you see? Visit the ' +\n",
              "          '<a target=\"_blank\" href=https://colab.research.google.com/notebooks/data_table.ipynb>data table notebook</a>'\n",
              "          + ' to learn more about interactive tables.';\n",
              "        element.innerHTML = '';\n",
              "        dataTable['output_type'] = 'display_data';\n",
              "        await google.colab.output.renderOutput(dataTable, element);\n",
              "        const docLink = document.createElement('div');\n",
              "        docLink.innerHTML = docLinkHtml;\n",
              "        element.appendChild(docLink);\n",
              "      }\n",
              "    </script>\n",
              "  </div>\n",
              "\n",
              "\n",
              "<div id=\"df-3514b1e3-4351-4e53-93fd-7f36a4773513\">\n",
              "  <button class=\"colab-df-quickchart\" onclick=\"quickchart('df-3514b1e3-4351-4e53-93fd-7f36a4773513')\"\n",
              "            title=\"Suggest charts\"\n",
              "            style=\"display:none;\">\n",
              "\n",
              "<svg xmlns=\"http://www.w3.org/2000/svg\" height=\"24px\"viewBox=\"0 0 24 24\"\n",
              "     width=\"24px\">\n",
              "    <g>\n",
              "        <path d=\"M19 3H5c-1.1 0-2 .9-2 2v14c0 1.1.9 2 2 2h14c1.1 0 2-.9 2-2V5c0-1.1-.9-2-2-2zM9 17H7v-7h2v7zm4 0h-2V7h2v10zm4 0h-2v-4h2v4z\"/>\n",
              "    </g>\n",
              "</svg>\n",
              "  </button>\n",
              "\n",
              "<style>\n",
              "  .colab-df-quickchart {\n",
              "      --bg-color: #E8F0FE;\n",
              "      --fill-color: #1967D2;\n",
              "      --hover-bg-color: #E2EBFA;\n",
              "      --hover-fill-color: #174EA6;\n",
              "      --disabled-fill-color: #AAA;\n",
              "      --disabled-bg-color: #DDD;\n",
              "  }\n",
              "\n",
              "  [theme=dark] .colab-df-quickchart {\n",
              "      --bg-color: #3B4455;\n",
              "      --fill-color: #D2E3FC;\n",
              "      --hover-bg-color: #434B5C;\n",
              "      --hover-fill-color: #FFFFFF;\n",
              "      --disabled-bg-color: #3B4455;\n",
              "      --disabled-fill-color: #666;\n",
              "  }\n",
              "\n",
              "  .colab-df-quickchart {\n",
              "    background-color: var(--bg-color);\n",
              "    border: none;\n",
              "    border-radius: 50%;\n",
              "    cursor: pointer;\n",
              "    display: none;\n",
              "    fill: var(--fill-color);\n",
              "    height: 32px;\n",
              "    padding: 0;\n",
              "    width: 32px;\n",
              "  }\n",
              "\n",
              "  .colab-df-quickchart:hover {\n",
              "    background-color: var(--hover-bg-color);\n",
              "    box-shadow: 0 1px 2px rgba(60, 64, 67, 0.3), 0 1px 3px 1px rgba(60, 64, 67, 0.15);\n",
              "    fill: var(--button-hover-fill-color);\n",
              "  }\n",
              "\n",
              "  .colab-df-quickchart-complete:disabled,\n",
              "  .colab-df-quickchart-complete:disabled:hover {\n",
              "    background-color: var(--disabled-bg-color);\n",
              "    fill: var(--disabled-fill-color);\n",
              "    box-shadow: none;\n",
              "  }\n",
              "\n",
              "  .colab-df-spinner {\n",
              "    border: 2px solid var(--fill-color);\n",
              "    border-color: transparent;\n",
              "    border-bottom-color: var(--fill-color);\n",
              "    animation:\n",
              "      spin 1s steps(1) infinite;\n",
              "  }\n",
              "\n",
              "  @keyframes spin {\n",
              "    0% {\n",
              "      border-color: transparent;\n",
              "      border-bottom-color: var(--fill-color);\n",
              "      border-left-color: var(--fill-color);\n",
              "    }\n",
              "    20% {\n",
              "      border-color: transparent;\n",
              "      border-left-color: var(--fill-color);\n",
              "      border-top-color: var(--fill-color);\n",
              "    }\n",
              "    30% {\n",
              "      border-color: transparent;\n",
              "      border-left-color: var(--fill-color);\n",
              "      border-top-color: var(--fill-color);\n",
              "      border-right-color: var(--fill-color);\n",
              "    }\n",
              "    40% {\n",
              "      border-color: transparent;\n",
              "      border-right-color: var(--fill-color);\n",
              "      border-top-color: var(--fill-color);\n",
              "    }\n",
              "    60% {\n",
              "      border-color: transparent;\n",
              "      border-right-color: var(--fill-color);\n",
              "    }\n",
              "    80% {\n",
              "      border-color: transparent;\n",
              "      border-right-color: var(--fill-color);\n",
              "      border-bottom-color: var(--fill-color);\n",
              "    }\n",
              "    90% {\n",
              "      border-color: transparent;\n",
              "      border-bottom-color: var(--fill-color);\n",
              "    }\n",
              "  }\n",
              "</style>\n",
              "\n",
              "  <script>\n",
              "    async function quickchart(key) {\n",
              "      const quickchartButtonEl =\n",
              "        document.querySelector('#' + key + ' button');\n",
              "      quickchartButtonEl.disabled = true;  // To prevent multiple clicks.\n",
              "      quickchartButtonEl.classList.add('colab-df-spinner');\n",
              "      try {\n",
              "        const charts = await google.colab.kernel.invokeFunction(\n",
              "            'suggestCharts', [key], {});\n",
              "      } catch (error) {\n",
              "        console.error('Error during call to suggestCharts:', error);\n",
              "      }\n",
              "      quickchartButtonEl.classList.remove('colab-df-spinner');\n",
              "      quickchartButtonEl.classList.add('colab-df-quickchart-complete');\n",
              "    }\n",
              "    (() => {\n",
              "      let quickchartButtonEl =\n",
              "        document.querySelector('#df-3514b1e3-4351-4e53-93fd-7f36a4773513 button');\n",
              "      quickchartButtonEl.style.display =\n",
              "        google.colab.kernel.accessAllowed ? 'block' : 'none';\n",
              "    })();\n",
              "  </script>\n",
              "</div>\n",
              "    </div>\n",
              "  </div>\n"
            ]
          },
          "metadata": {},
          "execution_count": 40
        }
      ]
    },
    {
      "cell_type": "code",
      "source": [
        "import seaborn as sns\n",
        "corr = results_df.corr()[[\"rmse\", \"recall@20\"]].loc[[\"use_movie_data\", \"n_neighbors\", \"pca_var\"]]\n",
        "sns.heatmap(corr, annot=True)\n",
        "plt.show()"
      ],
      "metadata": {
        "colab": {
          "base_uri": "https://localhost:8080/",
          "height": 430
        },
        "id": "WK_HkfmjbnU9",
        "outputId": "aa28a259-6fc4-476a-b081-d75c9e85237b"
      },
      "execution_count": 48,
      "outputs": [
        {
          "output_type": "display_data",
          "data": {
            "text/plain": [
              "<Figure size 640x480 with 2 Axes>"
            ],
            "image/png": "[encoded data removed]"
          },
          "metadata": {}
        }
      ]
    },
    {
      "cell_type": "markdown",
      "source": [
        "## Making recommendations"
      ],
      "metadata": {
        "id": "bFd0tmb_tm32"
      }
    },
    {
      "cell_type": "code",
      "source": [
        "train_df_B = pd.read_csv(str(data_folder / \"ub.base\"), sep=\"\\t\", names=data_col_names, encoding='latin-1')\n",
        "test_df_B = pd.read_csv(str(data_folder / \"ub.test\"), sep=\"\\t\", names=data_col_names, encoding='latin-1')\n",
        "movie_data = pd.read_csv(str(data_folder / \"u.item\"), sep=\"|\", names=movie_data_col_names, encoding='latin-1')\n",
        "\n",
        "recsys = CollaborativeFilteringRecSys(pca_var=0.9, knn_neighbors=600)\n",
        "recsys.fit(train_df_B, movie_data)"
      ],
      "metadata": {
        "id": "7kpxeunXkw-H"
      },
      "execution_count": 49,
      "outputs": []
    },
    {
      "cell_type": "code",
      "source": [
        "import pickle\n",
        "\n",
        "\n",
        "with open(\"recsys.pkl\", \"wb\") as f:\n",
        "    pickle.dump(recsys, f)"
      ],
      "metadata": {
        "id": "gKvUYpVSlJGy"
      },
      "execution_count": 50,
      "outputs": []
    },
    {
      "cell_type": "markdown",
      "source": [
        "### Evaluation"
      ],
      "metadata": {
        "id": "eHXZjvfhue3a"
      }
    },
    {
      "cell_type": "code",
      "source": [
        "evaluation_user_list = test_df_B[\"user_id\"].unique()\n",
        "\n",
        "ks = [10, 20, 50]\n",
        "scores = {\n",
        "    \"RMSE\": [],\n",
        "    \"MAE\": []\n",
        "}\n",
        "for k in ks:\n",
        "    scores[f\"Presicion@{k}\"] = []\n",
        "    scores[f\"Recall@{k}\"] = []\n",
        "\n",
        "for user_id in tqdm(evaluation_user_list):\n",
        "    preds = recsys.predict_unseen(user_id, verbose=False)\n",
        "    true_data = test_df_B[[\"movie_id\", \"rating\"]][test_df_B[\"user_id\"] == user_id]\n",
        "\n",
        "    scores[\"RMSE\"].append(rmse(true_data, preds))\n",
        "    scores[\"MAE\"].append(mae(true_data, preds))\n",
        "    for k in ks:\n",
        "        p, r = presicion_recall(true_data, preds, k=k)\n",
        "        if p is not None:\n",
        "            scores[f\"Presicion@{k}\"].append(p)\n",
        "            scores[f\"Recall@{k}\"].append(r)"
      ],
      "metadata": {
        "colab": {
          "base_uri": "https://localhost:8080/"
        },
        "id": "KR4qoEzAvNQd",
        "outputId": "fa576498-9307-4757-b85f-9950ae24cf00"
      },
      "execution_count": 51,
      "outputs": [
        {
          "output_type": "stream",
          "name": "stderr",
          "text": [
            "100%|██████████| 943/943 [12:37<00:00,  1.25it/s]\n"
          ]
        }
      ]
    },
    {
      "cell_type": "code",
      "source": [
        "for score, score_data in scores.items():\n",
        "    print(f\"{score}:\\t{np.mean(score_data):.3f}\")"
      ],
      "metadata": {
        "colab": {
          "base_uri": "https://localhost:8080/"
        },
        "id": "AyzVbg1hvd4_",
        "outputId": "7a32503f-476b-46f2-e7d9-27f0785b0fd3"
      },
      "execution_count": 52,
      "outputs": [
        {
          "output_type": "stream",
          "name": "stdout",
          "text": [
            "RMSE:\t0.999\n",
            "MAE:\t0.796\n",
            "Presicion@10:\t0.019\n",
            "Recall@10:\t0.031\n",
            "Presicion@20:\t0.017\n",
            "Recall@20:\t0.061\n",
            "Presicion@50:\t0.016\n",
            "Recall@50:\t0.140\n"
          ]
        }
      ]
    },
    {
      "cell_type": "code",
      "source": [],
      "metadata": {
        "id": "mSVPBuSMvk3T"
      },
      "execution_count": null,
      "outputs": []
    }
  ]
}