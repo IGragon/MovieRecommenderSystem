{
  "nbformat": 4,
  "nbformat_minor": 0,
  "metadata": {
    "colab": {
      "provenance": []
    },
    "kernelspec": {
      "name": "python3",
      "display_name": "Python 3"
    },
    "language_info": {
      "name": "python"
    }
  },
  "cells": [
    {
      "cell_type": "code",
      "execution_count": 1,
      "metadata": {
        "colab": {
          "base_uri": "https://localhost:8080/"
        },
        "id": "fW7P3L8-pg3_",
        "outputId": "8117cc63-f7ab-4648-eabb-871bbe389c5e"
      },
      "outputs": [
        {
          "output_type": "stream",
          "name": "stdout",
          "text": [
            "Cloning into 'MovieRecommenderSystem'...\n",
            "remote: Enumerating objects: 27, done.\u001b[K\n",
            "remote: Counting objects: 100% (27/27), done.\u001b[K\n",
            "remote: Compressing objects: 100% (21/21), done.\u001b[K\n",
            "remote: Total 27 (delta 1), reused 27 (delta 1), pack-reused 0\u001b[K\n",
            "Receiving objects: 100% (27/27), 8.83 MiB | 17.43 MiB/s, done.\n",
            "Resolving deltas: 100% (1/1), done.\n"
          ]
        }
      ],
      "source": [
        "# clone github repo\n",
        "!git clone https://github.com/IGragon/MovieRecommenderSystem.git"
      ]
    },
    {
      "cell_type": "code",
      "source": [
        "# run evaluation benchmark\n",
        "%cd /content\n",
        "%cd MovieRecommenderSystem/benchmark/\n",
        "! PYTHONPATH=\"$PYTHONPATH:/content/MovieRecommenderSystem\" python3 evaluate.py"
      ],
      "metadata": {
        "colab": {
          "base_uri": "https://localhost:8080/"
        },
        "id": "-jfD6xm-sEqR",
        "outputId": "3e82ec21-df19-4527-b202-67751a2f1c62"
      },
      "execution_count": 11,
      "outputs": [
        {
          "output_type": "stream",
          "name": "stdout",
          "text": [
            "/content\n",
            "/content/MovieRecommenderSystem/benchmark\n",
            "100% 943/943 [12:54<00:00,  1.22it/s]\n",
            "RMSE:\t\t0.999\n",
            "MAE:\t\t0.796\n",
            "Presicion@10:\t\t0.019\n",
            "Recall@10:\t\t0.031\n",
            "Presicion@20:\t\t0.017\n",
            "Recall@20:\t\t0.061\n",
            "Presicion@50:\t\t0.016\n",
            "Recall@50:\t\t0.140\n"
          ]
        }
      ]
    },
    {
      "cell_type": "code",
      "source": [],
      "metadata": {
        "id": "3JOfy2wgsRfJ"
      },
      "execution_count": null,
      "outputs": []
    }
  ]
}